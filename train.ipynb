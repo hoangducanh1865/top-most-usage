{
 "cells": [
  {
   "cell_type": "code",
   "execution_count": null,
   "id": "792d73e5",
   "metadata": {},
   "outputs": [],
   "source": [
    "!git clone https://github.com/hoangducanh1865/top-most-usage"
   ]
  },
  {
   "cell_type": "code",
   "execution_count": null,
   "id": "7c5164ef",
   "metadata": {},
   "outputs": [],
   "source": [
    "'''\n",
    "git config user.name \n",
    "git config user.email\n",
    "git remote -v \n",
    "git branch \n",
    "\n",
    "git status\n",
    "\n",
    "git add .\n",
    "git commit -m “Update”\n",
    "git push -u origin main \n",
    "'''\n",
    "\n",
    "%cd top-most-usage\n",
    "!git pull \n",
    "%cd .."
   ]
  },
  {
   "cell_type": "code",
   "execution_count": null,
   "id": "fb98a218",
   "metadata": {},
   "outputs": [],
   "source": [
    "!pip install topmost "
   ]
  },
  {
   "cell_type": "code",
   "execution_count": null,
   "id": "272fd7c3",
   "metadata": {},
   "outputs": [],
   "source": [
    "!python top-most-usage/main.py"
   ]
  }
 ],
 "metadata": {
  "kernelspec": {
   "display_name": "Python 3 (ipykernel)",
   "language": "python",
   "name": "python3"
  }
 },
 "nbformat": 4,
 "nbformat_minor": 5
}
